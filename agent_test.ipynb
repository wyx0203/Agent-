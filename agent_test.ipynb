{
 "cells": [
  {
   "cell_type": "code",
   "execution_count": 8,
   "id": "78afc57d",
   "metadata": {},
   "outputs": [],
   "source": [
    "from typing_extensions import Literal\n",
    "\n",
    "from langchain_core.messages import SystemMessage, AIMessage, HumanMessage\n",
    "from langchain_core.runnables import RunnableConfig\n",
    "\n",
    "from langgraph.graph import StateGraph, END\n",
    "from langgraph.types import Command\n",
    "from langgraph.prebuilt import tools_condition\n",
    "from langgraph.prebuilt import ToolNode\n",
    "from copilotkit import CopilotKitState\n",
    "from langchain_openai import ChatOpenAI\n",
    "from sample_agent.api_key import llm_key"
   ]
  },
  {
   "cell_type": "code",
   "execution_count": 9,
   "id": "dedcc3d9",
   "metadata": {
    "scrolled": true
   },
   "outputs": [],
   "source": [
    "from langchain_openai import ChatOpenAI\n",
    "\n",
    "model = ChatOpenAI(\n",
    "    model=\"Qwen/Qwen3-8B\",         # 指定使用的模型，这里是 Qwen3 代的 8B（80亿参数）版本\n",
    "    temperature=0,                 # 模型输出的“随机性”，0 表示完全确定性输出（适合问答、代码等确定任务）\n",
    "    max_retries=2,                 # 如果请求失败，最多重试 2 次\n",
    "    api_key=llm_key,               # 你的 API 密钥，用于鉴权\n",
    "    base_url=\"https://api.siliconflow.cn/v1\"  # 指定 API 服务地址，这里是 SiliconFlow 提供的 Qwen 接口\n",
    ")\n"
   ]
  },
  {
   "cell_type": "code",
   "execution_count": 4,
   "id": "1af7d555",
   "metadata": {},
   "outputs": [],
   "source": [
    "from langchain.tools import tool\n",
    "import os\n",
    "\n",
    "@tool\n",
    "def open_file(file_path: str):\n",
    "    \"\"\"\n",
    "    打开本地文件的工具。适用于 Windows 系统。\n",
    "    \n",
    "    参数：\n",
    "        file_path: 要打开的文件完整路径，例如 C:\\\\Users\\\\Alice\\\\Documents\\\\example.pdf\n",
    "    \n",
    "    返回：\n",
    "        成功或失败的提示信息。\n",
    "    \"\"\"\n",
    "    try:\n",
    "        print(f\"正在打开文件：{file_path}\")\n",
    "        os.startfile(file_path)  # Windows 专用方法，默认用系统关联程序打开文件\n",
    "        return f\"成功打开文件：{file_path}\"\n",
    "    except Exception as e:\n",
    "        return f\"打开文件失败：{str(e)}\"\n"
   ]
  },
  {
   "cell_type": "code",
   "execution_count": 5,
   "id": "1153cddb",
   "metadata": {},
   "outputs": [],
   "source": [
    "from typing import List, TypedDict, Annotated\n",
    "from langchain_core.messages import SystemMessage, AIMessage, AnyMessage\n",
    "from langgraph.graph.message import add_messages\n",
    "from langgraph.prebuilt import ToolNode\n",
    "\n",
    "# 定义状态，一个消息对象的列表\n",
    "class AgentState(TypedDict):\n",
    "    # 使用 Annotated 给这个字段添加了运行时元信息 `add_messages` 用来追加新消息到历史中\n",
    "    messages: Annotated[list[AnyMessage], add_messages]\n",
    "\n",
    "# 开始节点和结束节点\n",
    "from langgraph.graph import  END, START\n",
    "\n",
    "# 定义工具节点\n",
    "tools = [open_file]\n",
    "tool_node = ToolNode(tools)\n",
    "\n",
    "# 定义AI节点\n",
    "model_with_tools = model.bind_tools(tools)\n",
    "def ai_node(state: AgentState):\n",
    "    # 系统消息\n",
    "    system_message = SystemMessage(\n",
    "        content=f\"你是一个工作能力很强的助手。\"\n",
    "    )\n",
    "    response = model_with_tools.invoke([system_message] + state[\"messages\"])\n",
    "    return {\"messages\": [response]}\n",
    "\n",
    "\n"
   ]
  },
  {
   "cell_type": "code",
   "execution_count": null,
   "id": "7cbf675c",
   "metadata": {},
   "outputs": [],
   "source": [
    "from langgraph.graph import StateGraph, END, START\n",
    "from langgraph.prebuilt import tools_condition\n",
    "\n",
    "## The graph\n",
    "builder = StateGraph(AgentState)\n",
    "\n",
    "# 添加节点\n",
    "builder.add_node(\"ai_node\", ai_node)\n",
    "builder.add_node(\"tool_node\", tool_node)\n",
    "\n",
    "# 添加边：这些决定了控制流如何移动\n",
    "builder.add_edge(START, \"ai_node\")\n",
    "# 添加条件边：根据 tools_condition 的返回决定下一步\n",
    "builder.add_conditional_edges(\n",
    "    \"ai_node\",         # 条件触发点：在 ai_node 完成后执行\n",
    "    tools_condition,   # 条件函数：接收 state，返回一个 key（如 \"tools\" 或 \"__end__\"）\n",
    "    {\n",
    "        \"tools\": \"tool_node\",  # 若返回 \"tools\"，跳转到 tool_node\n",
    "        \"__end__\": END         # 若返回 \"__end__\", 跳转至 END 节点并终止 \n",
    "    }\n",
    ")\n",
    "builder.add_edge(\"tool_node\", \"ai_node\")\n",
    "\n",
    "react_graph = builder.compile()\n"
   ]
  },
  {
   "cell_type": "code",
   "execution_count": null,
   "id": "c88308f6",
   "metadata": {},
   "outputs": [
    {
     "name": "stdout",
     "output_type": "stream",
     "text": [
      "正在打开文件：C:\\Users\\sujun\\Desktop\\cosyvoice2-0528.pdf\n",
      "{'messages': [HumanMessage(content='用户输入：请帮我打开文件C:\\\\Users\\\\sujun\\\\Desktop\\\\cosyvoice2-0528.pdf', additional_kwargs={}, response_metadata={}, id='096d14a8-0560-43ac-aae5-39db343f25f0'), AIMessage(content='\\n\\n', additional_kwargs={'tool_calls': [{'id': '0197a521cde4c2e111fcc6adfd83706d', 'function': {'arguments': ' {\"file_path\": \"C:\\\\\\\\Users\\\\\\\\sujun\\\\\\\\Desktop\\\\\\\\cosyvoice2-0528.pdf\"}', 'name': 'open_file'}, 'type': 'function', 'index': 0}], 'refusal': None}, response_metadata={'token_usage': {'completion_tokens': 234, 'prompt_tokens': 236, 'total_tokens': 470, 'completion_tokens_details': {'accepted_prediction_tokens': None, 'audio_tokens': None, 'reasoning_tokens': 206, 'rejected_prediction_tokens': None}, 'prompt_tokens_details': None}, 'model_name': 'Qwen/Qwen3-8B', 'system_fingerprint': '', 'finish_reason': 'tool_calls', 'logprobs': None}, id='run--3ac647a0-e11c-4423-805a-488cd9d055ea-0', tool_calls=[{'name': 'open_file', 'args': {'file_path': 'C:\\\\Users\\\\sujun\\\\Desktop\\\\cosyvoice2-0528.pdf'}, 'id': '0197a521cde4c2e111fcc6adfd83706d', 'type': 'tool_call'}], usage_metadata={'input_tokens': 236, 'output_tokens': 234, 'total_tokens': 470, 'input_token_details': {}, 'output_token_details': {'reasoning': 206}}), ToolMessage(content='成功打开文件：C:\\\\Users\\\\sujun\\\\Desktop\\\\cosyvoice2-0528.pdf', name='open_file', id='9aa8f523-4043-43b6-a7fd-d7f4e7a76a18', tool_call_id='0197a521cde4c2e111fcc6adfd83706d'), AIMessage(content='\\n\\n文件已成功打开：C:\\\\Users\\\\sujun\\\\Desktop\\\\cosyvoice2-0528.pdf。是否需要我帮您执行其他操作？', additional_kwargs={'refusal': None}, response_metadata={'token_usage': {'completion_tokens': 290, 'prompt_tokens': 311, 'total_tokens': 601, 'completion_tokens_details': {'accepted_prediction_tokens': None, 'audio_tokens': None, 'reasoning_tokens': 256, 'rejected_prediction_tokens': None}, 'prompt_tokens_details': None}, 'model_name': 'Qwen/Qwen3-8B', 'system_fingerprint': '', 'finish_reason': 'stop', 'logprobs': None}, id='run--3d427a7b-2c4e-4eec-ad96-385088efb89b-0', usage_metadata={'input_tokens': 311, 'output_tokens': 290, 'total_tokens': 601, 'input_token_details': {}, 'output_token_details': {'reasoning': 256}})]}\n"
     ]
    }
   ],
   "source": [
    "from langchain_core.messages import HumanMessage\n",
    "\n",
    "messages = [HumanMessage(content=r\"用户输入：请帮我打开文件C:\\Users\\sujun\\Desktop\\cosyvoice2-0528.pdf\")]\n",
    "messages = react_graph.invoke({\"messages\": messages})\n",
    "print(messages)\n",
    "# 文件已成功打开：C:\\\\Users\\\\sujun\\\\Desktop\\\\cosyvoice2-0528.pdf。是否需要我帮您执行其他操作？"
   ]
  },
  {
   "cell_type": "code",
   "execution_count": 19,
   "id": "34de62ca",
   "metadata": {},
   "outputs": [
    {
     "name": "stdout",
     "output_type": "stream",
     "text": [
      "正在打开文件：C:\\Users\\sujun\\Desktop\\cosyvoice2-0528.pdf\n"
     ]
    },
    {
     "data": {
      "text/plain": [
       "'成功打开文件：C:\\\\Users\\\\sujun\\\\Desktop\\\\cosyvoice2-0528.pdf'"
      ]
     },
     "execution_count": 19,
     "metadata": {},
     "output_type": "execute_result"
    }
   ],
   "source": [
    "import os\n",
    "def open_file(file_path: str):\n",
    "    \"\"\"\n",
    "    打开本地文件的工具。适用于 Windows 系统。\n",
    "    \n",
    "    参数：\n",
    "        file_path: 要打开的文件完整路径，例如 C:\\\\Users\\\\Alice\\\\Documents\\\\example.pdf\n",
    "    \"\"\"\n",
    "    try:\n",
    "        print(f\"正在打开文件：{file_path}\")\n",
    "        os.startfile(file_path)  # Windows 专用方法，默认用系统关联程序打开文件\n",
    "        return f\"成功打开文件：{file_path}\"\n",
    "    except Exception as e:\n",
    "        return f\"打开文件失败：{str(e)}\"\n",
    "\n",
    "open_file(r\"C:\\Users\\sujun\\Desktop\\cosyvoice2-0528.pdf\")"
   ]
  }
 ],
 "metadata": {
  "kernelspec": {
   "display_name": "myenv",
   "language": "python",
   "name": "python3"
  },
  "language_info": {
   "codemirror_mode": {
    "name": "ipython",
    "version": 3
   },
   "file_extension": ".py",
   "mimetype": "text/x-python",
   "name": "python",
   "nbconvert_exporter": "python",
   "pygments_lexer": "ipython3",
   "version": "3.12.11"
  }
 },
 "nbformat": 4,
 "nbformat_minor": 5
}
